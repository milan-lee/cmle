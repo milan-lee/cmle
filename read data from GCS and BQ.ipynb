{
 "cells": [
  {
   "cell_type": "markdown",
   "metadata": {},
   "source": [
    "# Read data from Google Cloud Storage (GCS)"
   ]
  },
  {
   "cell_type": "markdown",
   "metadata": {},
   "source": [
    "Copy data to local directory on VM, and then read into a pandas data frame"
   ]
  },
  {
   "cell_type": "code",
   "execution_count": null,
   "metadata": {},
   "outputs": [],
   "source": [
    "#%%bash\n",
    "#mkdir data"
   ]
  },
  {
   "cell_type": "code",
   "execution_count": null,
   "metadata": {},
   "outputs": [],
   "source": [
    "#!gsutil cp gs://test-project-001-210814-acxiom/dummy_data.csv data/\n",
    "#!gsutil cp gs://test-project-001-210814-acxiom/poc_transactions.csv data/\n",
    "#!gsutil cp gs://test-project-001-210814-acxiom/poc_zip_ref.csv data/ \n",
    "#!gsutil cp gs://test-project-001-210814-acxiom/maven.csv data/   #(251025, 1695)\n",
    "#!gsutil cp gs://test-project-001-210814-acxiom/poc_modeling_data.csv data/  #(275478, 2678)\n",
    "#!gsutil cp gs://test-project-001-210814-acxiom/poc_scoring_data.csv data/  #(138364, 2678)\n",
    "!gsutil cp gs://test-project-001-210814-acxiom/vdf.csv data/  #(350000, 1687)"
   ]
  },
  {
   "cell_type": "code",
   "execution_count": null,
   "metadata": {},
   "outputs": [],
   "source": [
    "import pandas as pd\n",
    "#df = pd.read_csv(\"./data/dummy_data.csv\")\n",
    "#df = pd.read_csv(\"./data/poc_transactions.csv\")\n",
    "#df = pd.read_csv(\"./data/poc_zip_ref.csv\")\n",
    "#df = pd.read_csv(\"./data/maven.csv\")\n",
    "#df = pd.read_csv(\"./data/poc_modeling_data.csv\")\n",
    "#df = pd.read_csv(\"./data/poc_scoring_data.csv\")\n",
    "df = pd.read_csv(\"./data/vdf.csv\")"
   ]
  },
  {
   "cell_type": "markdown",
   "metadata": {},
   "source": [
    "Or stream in the data from Google Cloud Storage and read it into a pandas data frame"
   ]
  },
  {
   "cell_type": "code",
   "execution_count": null,
   "metadata": {},
   "outputs": [],
   "source": [
    "import pandas as pd\n",
    "df = pd.read_csv(filepath_or_buffer='https://storage.googleapis.com/test-project-001-210814-acxiom/dummy_data.csv')"
   ]
  },
  {
   "cell_type": "code",
   "execution_count": null,
   "metadata": {},
   "outputs": [],
   "source": [
    "df.shape"
   ]
  },
  {
   "cell_type": "code",
   "execution_count": null,
   "metadata": {
    "hiddenCell": true
   },
   "outputs": [],
   "source": [
    "df.head(10)"
   ]
  },
  {
   "cell_type": "markdown",
   "metadata": {},
   "source": [
    "# Read data from BQ"
   ]
  },
  {
   "cell_type": "code",
   "execution_count": null,
   "metadata": {},
   "outputs": [],
   "source": [
    "import google.datalab.bigquery as bq"
   ]
  },
  {
   "cell_type": "code",
   "execution_count": null,
   "metadata": {},
   "outputs": [],
   "source": [
    "# Create SQL query using natality data after the year 2000\n",
    "query = \"\"\"\n",
    "SELECT * FROM `ce-pso-ml-finance-demo.freddie_mac_public_dataset.train_input_sample10k` LIMIT 10\n",
    "\"\"\""
   ]
  },
  {
   "cell_type": "code",
   "execution_count": null,
   "metadata": {},
   "outputs": [],
   "source": [
    "df = bq.Query(query).execute().result().to_dataframe()\n",
    "df.head()"
   ]
  }
 ],
 "metadata": {
  "kernelspec": {
   "display_name": "Python 2",
   "language": "python",
   "name": "python2"
  },
  "language_info": {
   "codemirror_mode": {
    "name": "ipython",
    "version": 2
   },
   "file_extension": ".py",
   "mimetype": "text/x-python",
   "name": "python",
   "nbconvert_exporter": "python",
   "pygments_lexer": "ipython2",
   "version": "2.7.15"
  }
 },
 "nbformat": 4,
 "nbformat_minor": 2
}
