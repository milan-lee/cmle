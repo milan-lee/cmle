{
 "cells": [
  {
   "cell_type": "markdown",
   "metadata": {},
   "source": [
    "# Run BQML queries"
   ]
  },
  {
   "cell_type": "code",
   "execution_count": null,
   "metadata": {
    "hiddenCell": true
   },
   "outputs": [],
   "source": [
    "!pip install --upgrade google-cloud-bigquery"
   ]
  },
  {
   "cell_type": "code",
   "execution_count": null,
   "metadata": {},
   "outputs": [],
   "source": [
    "from google.cloud import bigquery\n",
    "client = bigquery.Client()"
   ]
  },
  {
   "cell_type": "code",
   "execution_count": null,
   "metadata": {},
   "outputs": [],
   "source": [
    "%load_ext google.cloud.bigquery"
   ]
  },
  {
   "cell_type": "code",
   "execution_count": null,
   "metadata": {},
   "outputs": [],
   "source": [
    "%%bigquery\n",
    "CREATE OR REPLACE MODEL `consumer_risk.classification_model`\n",
    "OPTIONS\n",
    "(\n",
    "model_type='logistic_reg',\n",
    "labels = ['target_binary']\n",
    ")\n",
    "AS\n",
    "\n",
    "SELECT\n",
    "  CASE WHEN TARGET >0 THEN 'bad'\n",
    "  ELSE 'good' END AS target_binary\n",
    "  , credit_score\n",
    "  , cltv\n",
    "  , debt_to_income\n",
    "  , ltv\n",
    "FROM\n",
    "  `freddie_mac_public_dataset.train_input_10M`\n",
    ";"
   ]
  },
  {
   "cell_type": "code",
   "execution_count": null,
   "metadata": {
    "hiddenCell": true
   },
   "outputs": [],
   "source": [
    "%%bigquery\n",
    "SELECT\n",
    "  *\n",
    "FROM\n",
    "  ML.TRAINING_INFO(MODEL `consumer_risk.classification_model`)"
   ]
  },
  {
   "cell_type": "code",
   "execution_count": null,
   "metadata": {},
   "outputs": [],
   "source": [
    "%%bigquery\n",
    "#standardSQL\n",
    "SELECT * FROM \n",
    "  ML.EVALUATE(MODEL `consumer_risk.classification_model`, (\n",
    "SELECT\n",
    "  CASE WHEN TARGET >0 THEN 'bad'\n",
    "  ELSE 'good' END AS target_binary\n",
    "  , credit_score\n",
    "  , cltv\n",
    "  , debt_to_income\n",
    "  , ltv\n",
    "FROM\n",
    "  `freddie_mac_public_dataset.train_input_10M`\n",
    "  ))"
   ]
  },
  {
   "cell_type": "code",
   "execution_count": null,
   "metadata": {},
   "outputs": [],
   "source": [
    "%%bigquery\n",
    "#standardSQL\n",
    "SELECT * FROM \n",
    "  ML.PREDICT(MODEL `consumer_risk.classification_model`, (\n",
    "SELECT\n",
    "   TARGET\n",
    "  , credit_score\n",
    "  , cltv\n",
    "  , debt_to_income\n",
    "  , ltv\n",
    "FROM\n",
    "  `freddie_mac_public_dataset.train_input_sample10k`\n",
    "  ))\n",
    "LIMIT 10"
   ]
  },
  {
   "cell_type": "code",
   "execution_count": null,
   "metadata": {},
   "outputs": [],
   "source": [
    "%%bigquery\n",
    "#standardSQL\n",
    "SELECT \n",
    "  predicted_target_binary\n",
    "  , AVG(credit_score) as average_credit_score\n",
    "  , AVG(ltv) as average_ltv\n",
    "FROM \n",
    "  ML.PREDICT(MODEL `consumer_risk.classification_model`, (\n",
    "SELECT\n",
    "   TARGET\n",
    "  , credit_score\n",
    "  , cltv\n",
    "  , debt_to_income\n",
    "  , ltv\n",
    "FROM\n",
    "  `freddie_mac_public_dataset.train_input_100M`\n",
    "  ))\n",
    "GROUP BY  predicted_target_binary\n",
    "LIMIT 10000"
   ]
  }
 ],
 "metadata": {
  "kernelspec": {
   "display_name": "Python 2",
   "language": "python",
   "name": "python2"
  },
  "language_info": {
   "codemirror_mode": {
    "name": "ipython",
    "version": 2
   },
   "file_extension": ".py",
   "mimetype": "text/x-python",
   "name": "python",
   "nbconvert_exporter": "python",
   "pygments_lexer": "ipython2",
   "version": "2.7.15"
  }
 },
 "nbformat": 4,
 "nbformat_minor": 2
}
